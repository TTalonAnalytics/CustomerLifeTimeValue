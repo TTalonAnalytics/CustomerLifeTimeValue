{
 "cells": [
  {
   "cell_type": "code",
   "execution_count": 17,
   "metadata": {},
   "outputs": [],
   "source": [
    "# Packages\n",
    "\n",
    "import pandas as pd\n",
    "import numpy as np\n",
    "import scipy\n",
    "import datetime\n",
    "from datetime import timedelta\n",
    "from dateutil.relativedelta import relativedelta\n",
    "import seaborn as sns\n",
    "import matplotlib.pyplot as plt\n",
    "from pandas.plotting import autocorrelation_plot\n",
    "\n",
    "from scipy.special import beta\n",
    "from scipy import optimize\n",
    "\n",
    "import warnings\n",
    "warnings.filterwarnings(\"ignore\")\n",
    "\n",
    "import os\n",
    "WF=os.getcwd()+'/'"
   ]
  },
  {
   "cell_type": "markdown",
   "metadata": {},
   "source": [
    "## Read Data"
   ]
  },
  {
   "cell_type": "code",
   "execution_count": 20,
   "metadata": {},
   "outputs": [
    {
     "output_type": "execute_result",
     "data": {
      "text/plain": [
       "   Cohort  month_passed      indication  AFTER_LAUNCH_FLAG  patients\n",
       "0  201704             0  AD Adolescents                  0         4"
      ],
      "text/html": "<div>\n<style scoped>\n    .dataframe tbody tr th:only-of-type {\n        vertical-align: middle;\n    }\n\n    .dataframe tbody tr th {\n        vertical-align: top;\n    }\n\n    .dataframe thead th {\n        text-align: right;\n    }\n</style>\n<table border=\"1\" class=\"dataframe\">\n  <thead>\n    <tr style=\"text-align: right;\">\n      <th></th>\n      <th>Cohort</th>\n      <th>month_passed</th>\n      <th>indication</th>\n      <th>AFTER_LAUNCH_FLAG</th>\n      <th>patients</th>\n    </tr>\n  </thead>\n  <tbody>\n    <tr>\n      <th>0</th>\n      <td>201704</td>\n      <td>0</td>\n      <td>AD Adolescents</td>\n      <td>0</td>\n      <td>4</td>\n    </tr>\n  </tbody>\n</table>\n</div>"
     },
     "metadata": {},
     "execution_count": 20
    }
   ],
   "source": [
    "raw=pd.read_excel(open(WF+'input.xlsx', 'rb'),sheet_name='Query') \n",
    "raw=raw.groupby(['STARTMONTH','MONTHS_SINCE_START','INDICATION_CODED','AFTER_LAUNCH_FLAG'],as_index=False)['PTS_ON_TX_IN_MONTH_60'].sum()\n",
    "raw=raw.rename(columns={'STARTMONTH':'Cohort','MONTHS_SINCE_START':'month_passed','PTS_ON_TX_IN_MONTH_60':'patients','INDICATION_CODED':'indication'})\n",
    "raw[:1]"
   ]
  },
  {
   "cell_type": "markdown",
   "metadata": {},
   "source": [
    "## Model comparison"
   ]
  },
  {
   "cell_type": "code",
   "execution_count": 14,
   "metadata": {},
   "outputs": [
    {
     "output_type": "stream",
     "name": "stdout",
     "text": [
      "AD Adolescents\n",
      "2017-04-01\n",
      "2017-05-01\n",
      "2017-06-01\n",
      "2017-07-01\n",
      "2017-08-01\n",
      "2017-09-01\n",
      "2017-10-01\n",
      "2017-11-01\n",
      "2017-12-01\n",
      "2018-01-01\n",
      "2018-02-01\n",
      "2018-03-01\n",
      "2018-04-01\n",
      "2018-05-01\n",
      "2018-06-01\n",
      "2018-07-01\n",
      "2018-08-01\n",
      "2018-09-01\n",
      "2018-10-01\n",
      "2018-11-01\n",
      "2018-12-01\n",
      "2019-01-01\n",
      "2019-02-01\n",
      "2019-03-01\n",
      "2019-04-01\n",
      "2019-05-01\n",
      "2019-06-01\n",
      "2019-07-01\n",
      "2019-08-01\n",
      "2019-09-01\n",
      "2019-10-01\n",
      "2019-11-01\n",
      "2019-12-01\n",
      "2020-01-01\n",
      "2020-02-01\n",
      "2020-03-01\n",
      "2020-04-01\n",
      "2020-05-01\n",
      "2020-06-01\n",
      "2020-07-01\n",
      "2020-08-01\n",
      "2020-09-01\n",
      "2020-10-01\n",
      "2020-11-01\n",
      "2020-12-01\n",
      "AD Adults\n",
      "2017-04-01\n",
      "2017-05-01\n",
      "2017-06-01\n",
      "2017-07-01\n",
      "2017-08-01\n",
      "2017-09-01\n",
      "2017-10-01\n",
      "2017-11-01\n",
      "2017-12-01\n",
      "2018-01-01\n",
      "2018-02-01\n",
      "2018-03-01\n",
      "2018-04-01\n",
      "2018-05-01\n",
      "2018-06-01\n",
      "2018-07-01\n",
      "2018-08-01\n",
      "2018-09-01\n",
      "2018-10-01\n",
      "2018-11-01\n",
      "2018-12-01\n",
      "2019-01-01\n",
      "2019-02-01\n",
      "2019-03-01\n",
      "2019-04-01\n",
      "2019-05-01\n",
      "2019-06-01\n",
      "2019-07-01\n",
      "2019-08-01\n",
      "2019-09-01\n",
      "2019-10-01\n",
      "2019-11-01\n",
      "2019-12-01\n",
      "2020-01-01\n",
      "2020-02-01\n",
      "2020-03-01\n",
      "2020-04-01\n",
      "2020-05-01\n",
      "2020-06-01\n",
      "2020-07-01\n",
      "2020-08-01\n",
      "2020-09-01\n",
      "2020-10-01\n",
      "2020-11-01\n",
      "2020-12-01\n",
      "AD Pediatrics\n",
      "2017-04-01\n",
      "2017-05-01\n",
      "2017-06-01\n",
      "2017-08-01\n",
      "2017-09-01\n",
      "2017-10-01\n",
      "2017-11-01\n",
      "2017-12-01\n",
      "2018-01-01\n",
      "2018-02-01\n",
      "2018-03-01\n",
      "2018-04-01\n",
      "2018-05-01\n",
      "2018-06-01\n",
      "2018-07-01\n",
      "2018-08-01\n",
      "2018-09-01\n",
      "2018-10-01\n",
      "2018-11-01\n",
      "2018-12-01\n",
      "2019-01-01\n",
      "2019-02-01\n",
      "2019-03-01\n",
      "2019-04-01\n",
      "2019-05-01\n",
      "2019-06-01\n",
      "2019-07-01\n",
      "2019-08-01\n",
      "2019-09-01\n",
      "2019-10-01\n",
      "2019-11-01\n",
      "2019-12-01\n",
      "2020-01-01\n",
      "2020-02-01\n",
      "2020-03-01\n",
      "2020-04-01\n",
      "2020-05-01\n",
      "2020-06-01\n",
      "2020-07-01\n",
      "2020-08-01\n",
      "2020-09-01\n",
      "2020-10-01\n",
      "2020-11-01\n",
      "2020-12-01\n",
      "Asthma\n",
      "2018-10-01\n",
      "2018-11-01\n",
      "2018-12-01\n",
      "2019-01-01\n",
      "2019-02-01\n",
      "2019-03-01\n",
      "2019-04-01\n",
      "2019-05-01\n",
      "2019-06-01\n",
      "2019-07-01\n",
      "2019-08-01\n",
      "2019-09-01\n",
      "2019-10-01\n",
      "2019-11-01\n",
      "2019-12-01\n",
      "2020-01-01\n",
      "2020-02-01\n",
      "2020-03-01\n",
      "2020-04-01\n",
      "2020-05-01\n",
      "2020-06-01\n",
      "2020-07-01\n",
      "2020-08-01\n",
      "2020-09-01\n",
      "2020-10-01\n",
      "2020-11-01\n",
      "2020-12-01\n",
      "NP\n",
      "2019-06-01\n",
      "2019-07-01\n",
      "2019-08-01\n",
      "2019-09-01\n",
      "2019-10-01\n",
      "2019-11-01\n",
      "2019-12-01\n",
      "2020-01-01\n",
      "2020-02-01\n",
      "2020-03-01\n",
      "2020-04-01\n",
      "2020-05-01\n",
      "2020-06-01\n",
      "2020-07-01\n",
      "2020-08-01\n",
      "2020-09-01\n",
      "2020-10-01\n",
      "2020-11-01\n",
      "2020-12-01\n",
      "AD Overall\n",
      "2017-04-01\n",
      "2017-05-01\n",
      "2017-06-01\n",
      "2017-07-01\n",
      "2017-08-01\n",
      "2017-09-01\n",
      "2017-10-01\n",
      "2017-11-01\n",
      "2017-12-01\n",
      "2018-01-01\n",
      "2018-02-01\n",
      "2018-03-01\n",
      "2018-04-01\n",
      "2018-05-01\n",
      "2018-06-01\n",
      "2018-07-01\n",
      "2018-08-01\n",
      "2018-09-01\n",
      "2018-10-01\n",
      "2018-11-01\n",
      "2018-12-01\n",
      "2019-01-01\n",
      "2019-02-01\n",
      "2019-03-01\n",
      "2019-04-01\n",
      "2019-05-01\n",
      "2019-06-01\n",
      "2019-07-01\n",
      "2019-08-01\n",
      "2019-09-01\n",
      "2019-10-01\n",
      "2019-11-01\n",
      "2019-12-01\n",
      "2020-01-01\n",
      "2020-02-01\n",
      "2020-03-01\n",
      "2020-04-01\n",
      "2020-05-01\n",
      "2020-06-01\n",
      "2020-07-01\n",
      "2020-08-01\n",
      "2020-09-01\n",
      "2020-10-01\n",
      "2020-11-01\n",
      "2020-12-01\n"
     ]
    }
   ],
   "source": [
    "output=[]\n",
    "for ind in raw['indication'].unique():\n",
    "    print(ind)\n",
    "    for cohort in raw[(raw['indication']==ind)]['Cohort'].unique():\n",
    "        print(cohort)\n",
    "        df=raw[(raw['Cohort']==cohort) & (raw['indication']==ind)]\n",
    "        df=df.sort_values('month_passed',ascending=True).reset_index()\n",
    "        \n",
    "        for f in pred_range_model_eval:\n",
    "            test=df[(-f):][['month_passed','patients']]\n",
    "            train=df[:(-f)][['month_passed','patients']]\n",
    "            #train['net']=train['patients']-train['patients'].shift(-1)\n",
    "\n",
    "            def expo(t,a):\n",
    "                s=np.power(a,t-1)\n",
    "                return(train['patients'].max()*s)\n",
    "            try:\n",
    "                params_exp, params_exp_cov=optimize.curve_fit(expo, train['month_passed'],train['patients'] )\n",
    "                EXPO=pd.DataFrame({'month_passed':df['month_passed'],'pred_expo':expo(df['month_passed'], *params_exp)})\n",
    "            except:\n",
    "                EXPO=pd.DataFrame({'month_passed':df['month_passed'],'pred_expo':np.nan})\n",
    "                \n",
    "            def bg(t,a,b):\n",
    "                s=beta(a,b+t-1)/beta(a,b)\n",
    "                return(train['patients'].max()*s)\n",
    "            try:\n",
    "                params_bg, params_bg_cov = optimize.curve_fit(bg, train['month_passed'],train['patients'] )\n",
    "                BG=pd.DataFrame({'month_passed':df['month_passed'],'pred_bg':bg(df['month_passed'], *params_bg)})\n",
    "            except:\n",
    "                BG=pd.DataFrame({'month_passed':df['month_passed'],'pred_bg':np.nan})\n",
    "\n",
    "            def bdw(t,a,b,c):\n",
    "                s=beta(a,b+np.power(t-1,c))/beta(a,b)\n",
    "                return(train['patients'].max()*s)\n",
    "            try:\n",
    "                params_bdw, params_bdw_cov = optimize.curve_fit(bdw, train['month_passed'],train['patients'] )\n",
    "                BDW=pd.DataFrame({'month_passed':df['month_passed'],'pred_bdw':bdw(df['month_passed'], *params_bdw)})\n",
    "            except:\n",
    "                BDW=pd.DataFrame({'month_passed':df['month_passed'],'pred_bdw':np.nan})\n",
    "                \n",
    "            def lcdw(t,w,a1,b1,c1,a2,b2,c2):\n",
    "                s=w*beta(a1,b1+np.power(t-1,c1))/beta(a1,b1)+(1-w)*beta(a2,b2+np.power(t-1,c2))/beta(a2,b2)\n",
    "                return(train['patients'].max()*s)\n",
    "            try:\n",
    "                params_lcdw, params_lcdw_cov = optimize.curve_fit(lcdw, train['month_passed'],train['patients'],maxfev = 5000 )\n",
    "                LCDW=pd.DataFrame({'month_passed':df['month_passed'],'pred_lcdw':lcdw(df['month_passed'], *params_lcdw)})\n",
    "            except:\n",
    "                LCDW=pd.DataFrame({'month_passed':df['month_passed'],'pred_lcdw':np.nan})\n",
    "\n",
    "            Pred=EXPO.merge(BG,how='outer',on='month_passed').merge(BDW,how='outer',on='month_passed').merge(LCDW,how='outer',on='month_passed').merge(df[['month_passed','patients']],how='outer',on='month_passed')\n",
    "            Pred['Out_Of_Sample']=Pred['month_passed']>Pred['month_passed'].max()-f\n",
    "\n",
    "            for x in [x for x in list(Pred.columns) if x.startswith('pred_')]:\n",
    "                Pred[x.replace('pred_','pe_')]=Pred[x]/Pred['patients']-1\n",
    "                Pred[x.replace('pred_','ape_')]=Pred[x.replace('pred_','pe_')].map(lambda x: np.abs(x))\n",
    "                output.append([ind,cohort,f,len(df['month_passed'])-f,x.replace('_pred',''),\n",
    "                                            Pred[Pred['Out_Of_Sample']==True][x.replace('pred_','pe_')].mean(),\n",
    "                                            Pred[Pred['Out_Of_Sample']==True][x.replace('pred_','ape_')].mean()])       "
   ]
  },
  {
   "cell_type": "code",
   "execution_count": 15,
   "metadata": {},
   "outputs": [
    {
     "output_type": "execute_result",
     "data": {
      "text/plain": [
       "       Indication      Cohort  Out_Of_Sample  Sample     Method        PE  \\\n",
       "0  AD Adolescents  2017-04-01              1      44  pred_expo  0.070506   \n",
       "1  AD Adolescents  2017-04-01              1      44    pred_bg  0.071701   \n",
       "2  AD Adolescents  2017-04-01              1      44   pred_bdw       NaN   \n",
       "\n",
       "        APE      WAPE  \n",
       "0  0.070506  0.070506  \n",
       "1  0.071701  0.071701  \n",
       "2       NaN       NaN  "
      ],
      "text/html": "<div>\n<style scoped>\n    .dataframe tbody tr th:only-of-type {\n        vertical-align: middle;\n    }\n\n    .dataframe tbody tr th {\n        vertical-align: top;\n    }\n\n    .dataframe thead th {\n        text-align: right;\n    }\n</style>\n<table border=\"1\" class=\"dataframe\">\n  <thead>\n    <tr style=\"text-align: right;\">\n      <th></th>\n      <th>Indication</th>\n      <th>Cohort</th>\n      <th>Out_Of_Sample</th>\n      <th>Sample</th>\n      <th>Method</th>\n      <th>PE</th>\n      <th>APE</th>\n      <th>WAPE</th>\n    </tr>\n  </thead>\n  <tbody>\n    <tr>\n      <th>0</th>\n      <td>AD Adolescents</td>\n      <td>2017-04-01</td>\n      <td>1</td>\n      <td>44</td>\n      <td>pred_expo</td>\n      <td>0.070506</td>\n      <td>0.070506</td>\n      <td>0.070506</td>\n    </tr>\n    <tr>\n      <th>1</th>\n      <td>AD Adolescents</td>\n      <td>2017-04-01</td>\n      <td>1</td>\n      <td>44</td>\n      <td>pred_bg</td>\n      <td>0.071701</td>\n      <td>0.071701</td>\n      <td>0.071701</td>\n    </tr>\n    <tr>\n      <th>2</th>\n      <td>AD Adolescents</td>\n      <td>2017-04-01</td>\n      <td>1</td>\n      <td>44</td>\n      <td>pred_bdw</td>\n      <td>NaN</td>\n      <td>NaN</td>\n      <td>NaN</td>\n    </tr>\n  </tbody>\n</table>\n</div>"
     },
     "metadata": {},
     "execution_count": 15
    }
   ],
   "source": [
    "output=pd.DataFrame(output,columns=['Indication','Cohort','Out_Of_Sample','Sample','Method','PE','APE'])\n",
    "output['WAPE']=output['Out_Of_Sample']*output['APE']\n",
    "output[:3]"
   ]
  },
  {
   "cell_type": "code",
   "execution_count": 16,
   "metadata": {},
   "outputs": [],
   "source": [
    "model_evaluation=output.copy()\n",
    "model_evaluation=model_evaluation[(model_evaluation['Sample']>5) & (model_evaluation['APE']!=np.inf)]\n",
    "me_cohort=model_evaluation.groupby(['Indication','Cohort','Method'],as_index=False)['APE','PE'].mean()\n",
    "me_outofsample=model_evaluation.groupby(['Indication','Out_Of_Sample','Method'],as_index=False)['APE','PE'].mean()\n",
    "me_smy=model_evaluation.groupby(['Indication','Method'],as_index=False)['APE','PE'].mean()"
   ]
  },
  {
   "cell_type": "code",
   "execution_count": 17,
   "metadata": {},
   "outputs": [],
   "source": [
    "import os\n",
    "if not os.path.exists(WF+'Output/'+latest.strftime('%Y%m%d')):\n",
    "    os.makedirs(WF+'Output/'+latest.strftime('%Y%m%d'))"
   ]
  },
  {
   "cell_type": "code",
   "execution_count": 18,
   "metadata": {},
   "outputs": [],
   "source": [
    "writer2= pd.ExcelWriter(WF+'Output/'+latest.strftime('%Y%m%d')+'/Output_Model_Evaluation_'+latest.strftime('%Y%m%d')+'.xlsx')\n",
    "for ind in model_evaluation['Indication'].unique():\n",
    "    writer = pd.ExcelWriter(WF+'Output/'+latest.strftime('%Y%m%d')+'/Output_Model_Evaluation_'+latest.strftime('%Y%m%d')+'_'+ind+'.xlsx')\n",
    "    model_evaluation[model_evaluation['Indication']==ind].to_excel(writer, sheet_name='raw',index=False)\n",
    "    me_cohort[me_cohort['Indication']==ind].to_excel(writer, sheet_name='cohort',index=False)\n",
    "    me_outofsample[me_outofsample['Indication']==ind].to_excel(writer, sheet_name='OutOfSample',index=False)\n",
    "    me_smy[me_smy['Indication']==ind].to_excel(writer, sheet_name='Summary',index=False)\n",
    "    writer.save()\n",
    "    \n",
    "    model_evaluation[model_evaluation['Indication']==ind].to_excel(writer2, sheet_name='raw_'+ind,index=False)\n",
    "    me_cohort[me_cohort['Indication']==ind].to_excel(writer2, sheet_name='cohort_'+ind,index=False)\n",
    "    me_outofsample[me_outofsample['Indication']==ind].to_excel(writer2, sheet_name='OutOfSample_'+ind,index=False)\n",
    "    me_smy[me_smy['Indication']==ind].to_excel(writer2, sheet_name='Summary_'+ind,index=False)\n",
    "writer2.save()"
   ]
  },
  {
   "cell_type": "markdown",
   "metadata": {},
   "source": [
    "## Prediction"
   ]
  },
  {
   "cell_type": "code",
   "execution_count": 1,
   "metadata": {},
   "outputs": [
    {
     "output_type": "stream",
     "name": "stdout",
     "text": [
      "\n"
     ]
    }
   ],
   "source": [
    "output=[]\n",
    "for ind in raw['indication'].unique():\n",
    "    print(ind)\n",
    "    for cohort in raw[(raw['indication']==ind)]['Cohort'].unique(): #[x for x in raw['Cohort'].unique() if x=='2017-12-01']: # \n",
    "        print(cohort)\n",
    "        df=raw[(raw['Cohort']==cohort) & (raw['indication']==ind)]\n",
    "        df=df.sort_values('month_passed',ascending=True).reset_index()\n",
    "\n",
    "        def bdw(t,a,b,c):\n",
    "            s=beta(a,b+np.power(t-1,c))/beta(a,b)\n",
    "            return(np.log(df['patients'].max()*s))\n",
    "        try:\n",
    "            params_bdw, params_bdw_cov = optimize.curve_fit(bdw, df['month_passed'],df['patients'].map(lambda x:np.log(x)) )\n",
    "            BDW=pd.DataFrame({'month_passed':df['month_passed'],'pred_bdw':bdw(df['month_passed'], *params_bdw)})\n",
    "        except:\n",
    "            BDW=pd.DataFrame({'month_passed':df['month_passed'],'pred_bdw':np.nan})\n",
    "\n",
    "        def bg(t,a,b):\n",
    "            s=beta(a,b+t-1)/beta(a,b)\n",
    "            return(np.log(df['patients'].max()*s))\n",
    "        try:\n",
    "            params_bg, params_bg_cov = optimize.curve_fit(bg, df['month_passed'],df['patients'].map(lambda x:np.log(x)) )\n",
    "            BG=pd.DataFrame({'month_passed':df['month_passed'],'pred_bg':bg(df['month_passed'], *params_bg)})\n",
    "        except:\n",
    "            BG=pd.DataFrame({'month_passed':df['month_passed'],'pred_bg':np.nan})\n",
    "\n",
    "        def lcdw(t,w,a1,b1,c1,a2,b2,c2):\n",
    "            s=w*beta(a1,b1+np.power(t-1,c1))/beta(a1,b1)+(1-w)*beta(a2,b2+np.power(t-1,c2))/beta(a2,b2)\n",
    "            return(np.log(df['patients'].max()*s))\n",
    "        try:\n",
    "            params_lcdw, params_lcdw_cov = optimize.curve_fit(lcdw, df['month_passed'],df['patients'].map(lambda x:np.log(x)),maxfev = 5000 )\n",
    "            LCDW=pd.DataFrame({'month_passed':df['month_passed'],'pred_lcdw':lcdw(df['month_passed'], *params_lcdw)})\n",
    "        except:\n",
    "            LCDW=pd.DataFrame({'month_passed':df['month_passed'],'pred_lcdw':np.nan})\n",
    "\n",
    "        def expo(t,a):\n",
    "            s=np.power(a,t-1)\n",
    "            return(np.log(df['patients'].max()*s))\n",
    "        try:\n",
    "            params_exp, params_exp_cov=optimize.curve_fit(expo, df['month_passed'],df['patients'].map(lambda x:np.log(x)) )\n",
    "            EXPO=pd.DataFrame({'month_passed':df['month_passed'],'pred_expo':expo(df['month_passed'], *params_exp)})\n",
    "        except:\n",
    "            EXPO=pd.DataFrame({'month_passed':df['month_passed'],'pred_expo':np.nan})\n",
    "\n",
    "        Pred=pred_range.copy()\n",
    "        Pred['month_passed']=Pred['month_passed']+df['month_passed'].max()\n",
    "        Pred['patients_BG']=Pred['month_passed'].map(lambda x: np.exp(bg(x,*params_bg)))\n",
    "        Pred['patients_Bdw']=Pred['month_passed'].map(lambda x: np.exp(bdw(x,*params_bdw)))\n",
    "        Pred['patients_LCDW']=Pred['month_passed'].map(lambda x: np.exp(lcdw(x,*params_lcdw)))\n",
    "        Pred['patients_Expo']=Pred['month_passed'].map(lambda x: np.exp(expo(x,*params_exp)))\n",
    "        Pred['Out_Of_Sample']=True\n",
    "        Pred['Cohort']=cohort\n",
    "        Pred['Indication']=ind\n",
    "\n",
    "        History=df[['Cohort','month_passed','patients']]\n",
    "        History['patients_BG']=History['patients']\n",
    "        History['patients_Bdw']=History['patients']\n",
    "        History['patients_LCDW']=History['patients']\n",
    "        History['patients_Expo']=History['patients']\n",
    "        History['Out_Of_Sample']=False\n",
    "        History=History.drop('patients',1)\n",
    "        History['Indication']=ind\n",
    "\n",
    "        if type(output)==list:\n",
    "            output=pd.concat([History,Pred])\n",
    "        else:\n",
    "            output=pd.concat([output,History,Pred])"
   ]
  },
  {
   "cell_type": "code",
   "execution_count": 20,
   "metadata": {},
   "outputs": [
    {
     "output_type": "execute_result",
     "data": {
      "text/plain": [
       "       Cohort  month_passed  patients_BG  patients_Bdw  patients_LCDW  \\\n",
       "0  2017-04-01             1          4.0           4.0            4.0   \n",
       "1  2017-04-01             2          4.0           4.0            4.0   \n",
       "2  2017-04-01             3          4.0           4.0            4.0   \n",
       "\n",
       "   patients_Expo  Out_Of_Sample      Indication           tmp cohort_month  \\\n",
       "0            4.0          False  AD Adolescents  [2017, 4, 1]   2017-04-01   \n",
       "1            4.0          False  AD Adolescents  [2017, 4, 1]   2017-04-01   \n",
       "2            4.0          False  AD Adolescents  [2017, 4, 1]   2017-04-01   \n",
       "\n",
       "       month  \n",
       "0 2017-05-01  \n",
       "1 2017-06-01  \n",
       "2 2017-07-01  "
      ],
      "text/html": "<div>\n<style scoped>\n    .dataframe tbody tr th:only-of-type {\n        vertical-align: middle;\n    }\n\n    .dataframe tbody tr th {\n        vertical-align: top;\n    }\n\n    .dataframe thead th {\n        text-align: right;\n    }\n</style>\n<table border=\"1\" class=\"dataframe\">\n  <thead>\n    <tr style=\"text-align: right;\">\n      <th></th>\n      <th>Cohort</th>\n      <th>month_passed</th>\n      <th>patients_BG</th>\n      <th>patients_Bdw</th>\n      <th>patients_LCDW</th>\n      <th>patients_Expo</th>\n      <th>Out_Of_Sample</th>\n      <th>Indication</th>\n      <th>tmp</th>\n      <th>cohort_month</th>\n      <th>month</th>\n    </tr>\n  </thead>\n  <tbody>\n    <tr>\n      <th>0</th>\n      <td>2017-04-01</td>\n      <td>1</td>\n      <td>4.0</td>\n      <td>4.0</td>\n      <td>4.0</td>\n      <td>4.0</td>\n      <td>False</td>\n      <td>AD Adolescents</td>\n      <td>[2017, 4, 1]</td>\n      <td>2017-04-01</td>\n      <td>2017-05-01</td>\n    </tr>\n    <tr>\n      <th>1</th>\n      <td>2017-04-01</td>\n      <td>2</td>\n      <td>4.0</td>\n      <td>4.0</td>\n      <td>4.0</td>\n      <td>4.0</td>\n      <td>False</td>\n      <td>AD Adolescents</td>\n      <td>[2017, 4, 1]</td>\n      <td>2017-04-01</td>\n      <td>2017-06-01</td>\n    </tr>\n    <tr>\n      <th>2</th>\n      <td>2017-04-01</td>\n      <td>3</td>\n      <td>4.0</td>\n      <td>4.0</td>\n      <td>4.0</td>\n      <td>4.0</td>\n      <td>False</td>\n      <td>AD Adolescents</td>\n      <td>[2017, 4, 1]</td>\n      <td>2017-04-01</td>\n      <td>2017-07-01</td>\n    </tr>\n  </tbody>\n</table>\n</div>"
     },
     "metadata": {},
     "execution_count": 20
    }
   ],
   "source": [
    "output['tmp']=output['Cohort'].map(lambda x: [int(y) for y in x.split('-')])\n",
    "output['cohort_month']=output['tmp'].map(lambda x: datetime.datetime(x[0],x[1],x[2]))\n",
    "output['month']=output.apply(lambda x: x['cohort_month']+relativedelta(months=x['month_passed']),1)\n",
    "output[:3]"
   ]
  },
  {
   "cell_type": "code",
   "execution_count": 21,
   "metadata": {},
   "outputs": [
    {
     "output_type": "execute_result",
     "data": {
      "text/plain": [
       "       Cohort  month_passed  patients_BG  patients_Bdw  patients_LCDW  \\\n",
       "0  2017-04-01             1          4.0           4.0            4.0   \n",
       "1  2017-04-01             2          4.0           4.0            4.0   \n",
       "2  2017-04-01             3          4.0           4.0            4.0   \n",
       "\n",
       "   patients_Expo  Out_Of_Sample      Indication      month  \n",
       "0            4.0          False  AD Adolescents 2017-05-01  \n",
       "1            4.0          False  AD Adolescents 2017-06-01  \n",
       "2            4.0          False  AD Adolescents 2017-07-01  "
      ],
      "text/html": "<div>\n<style scoped>\n    .dataframe tbody tr th:only-of-type {\n        vertical-align: middle;\n    }\n\n    .dataframe tbody tr th {\n        vertical-align: top;\n    }\n\n    .dataframe thead th {\n        text-align: right;\n    }\n</style>\n<table border=\"1\" class=\"dataframe\">\n  <thead>\n    <tr style=\"text-align: right;\">\n      <th></th>\n      <th>Cohort</th>\n      <th>month_passed</th>\n      <th>patients_BG</th>\n      <th>patients_Bdw</th>\n      <th>patients_LCDW</th>\n      <th>patients_Expo</th>\n      <th>Out_Of_Sample</th>\n      <th>Indication</th>\n      <th>month</th>\n    </tr>\n  </thead>\n  <tbody>\n    <tr>\n      <th>0</th>\n      <td>2017-04-01</td>\n      <td>1</td>\n      <td>4.0</td>\n      <td>4.0</td>\n      <td>4.0</td>\n      <td>4.0</td>\n      <td>False</td>\n      <td>AD Adolescents</td>\n      <td>2017-05-01</td>\n    </tr>\n    <tr>\n      <th>1</th>\n      <td>2017-04-01</td>\n      <td>2</td>\n      <td>4.0</td>\n      <td>4.0</td>\n      <td>4.0</td>\n      <td>4.0</td>\n      <td>False</td>\n      <td>AD Adolescents</td>\n      <td>2017-06-01</td>\n    </tr>\n    <tr>\n      <th>2</th>\n      <td>2017-04-01</td>\n      <td>3</td>\n      <td>4.0</td>\n      <td>4.0</td>\n      <td>4.0</td>\n      <td>4.0</td>\n      <td>False</td>\n      <td>AD Adolescents</td>\n      <td>2017-07-01</td>\n    </tr>\n  </tbody>\n</table>\n</div>"
     },
     "metadata": {},
     "execution_count": 21
    }
   ],
   "source": [
    "pc=output[output['Cohort']<=last.strftime('%Y-%m-%d')]\n",
    "pc=pc.drop(['tmp','cohort_month'],1)\n",
    "pc[:3]"
   ]
  },
  {
   "cell_type": "code",
   "execution_count": 22,
   "metadata": {},
   "outputs": [
    {
     "output_type": "execute_result",
     "data": {
      "text/plain": [
       "       Cohort  month_passed  Out_Of_Sample      month  patients_BG  \\\n",
       "0  2017-04-01             1          False 2017-05-01        295.0   \n",
       "1  2017-04-01             2          False 2017-06-01        293.0   \n",
       "\n",
       "   patients_Bdw  patients_LCDW  patients_Expo     Indication  \n",
       "0         295.0          295.0          295.0  AD Overall V2  \n",
       "1         293.0          293.0          293.0  AD Overall V2  "
      ],
      "text/html": "<div>\n<style scoped>\n    .dataframe tbody tr th:only-of-type {\n        vertical-align: middle;\n    }\n\n    .dataframe tbody tr th {\n        vertical-align: top;\n    }\n\n    .dataframe thead th {\n        text-align: right;\n    }\n</style>\n<table border=\"1\" class=\"dataframe\">\n  <thead>\n    <tr style=\"text-align: right;\">\n      <th></th>\n      <th>Cohort</th>\n      <th>month_passed</th>\n      <th>Out_Of_Sample</th>\n      <th>month</th>\n      <th>patients_BG</th>\n      <th>patients_Bdw</th>\n      <th>patients_LCDW</th>\n      <th>patients_Expo</th>\n      <th>Indication</th>\n    </tr>\n  </thead>\n  <tbody>\n    <tr>\n      <th>0</th>\n      <td>2017-04-01</td>\n      <td>1</td>\n      <td>False</td>\n      <td>2017-05-01</td>\n      <td>295.0</td>\n      <td>295.0</td>\n      <td>295.0</td>\n      <td>295.0</td>\n      <td>AD Overall V2</td>\n    </tr>\n    <tr>\n      <th>1</th>\n      <td>2017-04-01</td>\n      <td>2</td>\n      <td>False</td>\n      <td>2017-06-01</td>\n      <td>293.0</td>\n      <td>293.0</td>\n      <td>293.0</td>\n      <td>293.0</td>\n      <td>AD Overall V2</td>\n    </tr>\n  </tbody>\n</table>\n</div>"
     },
     "metadata": {},
     "execution_count": 22
    }
   ],
   "source": [
    "AD=pc[pc['Indication'].isin(['AD Adolescents','AD Adults','AD Pediatrics'])]\n",
    "AD=AD.groupby(['Cohort','month_passed','Out_Of_Sample','month'],as_index=False)['patients_BG','patients_Bdw','patients_LCDW','patients_Expo'].sum()\n",
    "AD['Indication']='AD Overall V2'\n",
    "pc=pd.concat([pc,AD])\n",
    "AD[:2]"
   ]
  },
  {
   "cell_type": "markdown",
   "metadata": {},
   "source": [
    "## Persistency Calculator"
   ]
  },
  {
   "cell_type": "code",
   "execution_count": null,
   "metadata": {},
   "outputs": [],
   "source": [
    "pc.to_csv(path+'/pc.csv',index=False)"
   ]
  },
  {
   "cell_type": "code",
   "execution_count": 23,
   "metadata": {},
   "outputs": [
    {
     "output_type": "execute_result",
     "data": {
      "text/plain": [
       "       Indication  Look_Forward    Methodology  Persistence   Average\n",
       "0  AD Adolescents            12    patients_BG     9.347406  Weighted\n",
       "1  AD Adolescents            12   patients_Bdw     9.346201  Weighted\n",
       "2  AD Adolescents            12  patients_LCDW     9.292878  Weighted"
      ],
      "text/html": "<div>\n<style scoped>\n    .dataframe tbody tr th:only-of-type {\n        vertical-align: middle;\n    }\n\n    .dataframe tbody tr th {\n        vertical-align: top;\n    }\n\n    .dataframe thead th {\n        text-align: right;\n    }\n</style>\n<table border=\"1\" class=\"dataframe\">\n  <thead>\n    <tr style=\"text-align: right;\">\n      <th></th>\n      <th>Indication</th>\n      <th>Look_Forward</th>\n      <th>Methodology</th>\n      <th>Persistence</th>\n      <th>Average</th>\n    </tr>\n  </thead>\n  <tbody>\n    <tr>\n      <th>0</th>\n      <td>AD Adolescents</td>\n      <td>12</td>\n      <td>patients_BG</td>\n      <td>9.347406</td>\n      <td>Weighted</td>\n    </tr>\n    <tr>\n      <th>1</th>\n      <td>AD Adolescents</td>\n      <td>12</td>\n      <td>patients_Bdw</td>\n      <td>9.346201</td>\n      <td>Weighted</td>\n    </tr>\n    <tr>\n      <th>2</th>\n      <td>AD Adolescents</td>\n      <td>12</td>\n      <td>patients_LCDW</td>\n      <td>9.292878</td>\n      <td>Weighted</td>\n    </tr>\n  </tbody>\n</table>\n</div>"
     },
     "metadata": {},
     "execution_count": 23
    }
   ],
   "source": [
    "# Weighted persistency\n",
    "output2=[]\n",
    "for ind in pc['Indication'].unique():\n",
    "    for m in persistence_range:\n",
    "        P=['patients_BG','patients_Bdw','patients_LCDW','patients_Expo']\n",
    "        ag=pc[(pc['month_passed']<m) & (pc['Indication']==ind)].groupby('month_passed',as_index=False)[P].sum()\n",
    "        for p in P:\n",
    "            ag[p+'_net']=ag[p]-ag[p].shift(-1)\n",
    "            ag.loc[ag[p+'_net'].isnull(),p+'_net']=ag[p]\n",
    "            ag[p+'_w']=ag[p+'_net']*ag['month_passed']\n",
    "            output2.append([ind,m,p,ag[p+'_w'].sum()/ag[ag['month_passed']==1]['patients_BG'].max()])\n",
    "output2=pd.DataFrame(output2,columns=['Indication','Look_Forward','Methodology','Persistence'])\n",
    "output2['Average']='Weighted'\n",
    "output2[:3]"
   ]
  },
  {
   "cell_type": "code",
   "execution_count": 24,
   "metadata": {},
   "outputs": [],
   "source": [
    "writer2= pd.ExcelWriter(WF+'Output/'+latest.strftime('%Y%m%d')+'/Output_Persistency_'+latest.strftime('%Y%m%d')+'.xlsx')\n",
    "for ind in pc['Indication'].unique():\n",
    "    writer = pd.ExcelWriter(WF+'Output/'+latest.strftime('%Y%m%d')+'/Output_Persistency_'+latest.strftime('%Y%m%d')+'_'+ind+'.xlsx')\n",
    "    pc[pc['Indication']==ind].to_excel(writer, sheet_name='predication',index=False)\n",
    "    output2[output2['Indication']==ind].to_excel(writer, sheet_name='persistency',index=False)\n",
    "    writer.save()\n",
    "    \n",
    "    pc[pc['Indication']==ind].to_excel(writer2, sheet_name='predication_'+ind,index=False)\n",
    "    output2[output2['Indication']==ind].to_excel(writer2, sheet_name='persistency_'+ind,index=False)\n",
    "writer2.save()"
   ]
  },
  {
   "cell_type": "markdown",
   "metadata": {},
   "source": [
    "## Copy input file for record"
   ]
  },
  {
   "cell_type": "code",
   "execution_count": 25,
   "metadata": {},
   "outputs": [
    {
     "output_type": "execute_result",
     "data": {
      "text/plain": [
       "'/Users/can.tan/Documents/Project/Dupixent/Persistence Calculator/\\\\Input\\\\input_20210101.xlsx'"
      ]
     },
     "metadata": {},
     "execution_count": 25
    }
   ],
   "source": [
    "from shutil import copyfile\n",
    "copyfile(WF+'input.xlsx', WF+'/Input/input_'+latest.strftime('%Y%m%d')+'.xlsx')"
   ]
  },
  {
   "cell_type": "markdown",
   "metadata": {},
   "source": [
    "## output one sheeter"
   ]
  },
  {
   "cell_type": "code",
   "execution_count": 26,
   "metadata": {},
   "outputs": [
    {
     "output_type": "stream",
     "name": "stdout",
     "text": [
      "AD Adolescents is not available for model evaluation.\n",
      "AD Adults is not available for model evaluation.\n",
      "AD Pediatrics is not available for model evaluation.\n",
      "Asthma is not available for model evaluation.\n",
      "NP is not available for model evaluation.\n",
      "AD Overall is not available for model evaluation.\n",
      "AD Overall V2 is not available for model evaluation.\n"
     ]
    }
   ],
   "source": [
    "persistence=[]\n",
    "model_evaluation=[]\n",
    "for ind in pc['Indication'].unique():\n",
    "    df=pd.read_excel((WF+'Output\\\\'+latest.strftime('%Y%m%d')+'\\\\Output_Persistency_'+latest.strftime('%Y%m%d')+'.xlsx'),sheet_name='persistency_'+ind)\n",
    "    if type(persistence)==list:\n",
    "        persistence=df\n",
    "    else:\n",
    "        persistence=pd.concat([persistence,df])\n",
    "        \n",
    "    try:\n",
    "        df2=pd.read_excel((WF+'Output\\\\'+latest.strftime('%Y%m%d')+'\\\\Output_Model_Evaluation_'+latest.strftime('%Y%m%d')+'.xlsx'), sheet_name='Summary_'+ind)\n",
    "        if type(model_evaluation)==list:\n",
    "            model_evaluation=df2\n",
    "        else:\n",
    "            model_evaluation=pd.concat([model_evaluation,df2])\n",
    "    except:\n",
    "        print(ind+' is not available for model evaluation.')"
   ]
  },
  {
   "cell_type": "code",
   "execution_count": 27,
   "metadata": {},
   "outputs": [
    {
     "output_type": "error",
     "ename": "AttributeError",
     "evalue": "'list' object has no attribute 'to_excel'",
     "traceback": [
      "\u001b[0;31m---------------------------------------------------------------------------\u001b[0m",
      "\u001b[0;31mAttributeError\u001b[0m                            Traceback (most recent call last)",
      "\u001b[0;32m<ipython-input-27-faf8fa8d2552>\u001b[0m in \u001b[0;36m<module>\u001b[0;34m\u001b[0m\n\u001b[1;32m      1\u001b[0m \u001b[0mwriter3\u001b[0m\u001b[0;34m=\u001b[0m \u001b[0mpd\u001b[0m\u001b[0;34m.\u001b[0m\u001b[0mExcelWriter\u001b[0m\u001b[0;34m(\u001b[0m\u001b[0mWF\u001b[0m\u001b[0;34m+\u001b[0m\u001b[0;34m'Output\\\\'\u001b[0m\u001b[0;34m+\u001b[0m\u001b[0mlatest\u001b[0m\u001b[0;34m.\u001b[0m\u001b[0mstrftime\u001b[0m\u001b[0;34m(\u001b[0m\u001b[0;34m'%Y%m%d'\u001b[0m\u001b[0;34m)\u001b[0m\u001b[0;34m+\u001b[0m\u001b[0;34m'\\\\summary_'\u001b[0m\u001b[0;34m+\u001b[0m\u001b[0mlatest\u001b[0m\u001b[0;34m.\u001b[0m\u001b[0mstrftime\u001b[0m\u001b[0;34m(\u001b[0m\u001b[0;34m'%Y%m%d'\u001b[0m\u001b[0;34m)\u001b[0m\u001b[0;34m+\u001b[0m\u001b[0;34m'.xlsx'\u001b[0m\u001b[0;34m)\u001b[0m\u001b[0;34m\u001b[0m\u001b[0;34m\u001b[0m\u001b[0m\n\u001b[1;32m      2\u001b[0m \u001b[0mpersistence\u001b[0m\u001b[0;34m.\u001b[0m\u001b[0mto_excel\u001b[0m\u001b[0;34m(\u001b[0m\u001b[0mwriter3\u001b[0m\u001b[0;34m,\u001b[0m\u001b[0msheet_name\u001b[0m\u001b[0;34m=\u001b[0m\u001b[0;34m'persistence'\u001b[0m\u001b[0;34m,\u001b[0m\u001b[0mindex\u001b[0m\u001b[0;34m=\u001b[0m\u001b[0;32mFalse\u001b[0m\u001b[0;34m)\u001b[0m\u001b[0;34m\u001b[0m\u001b[0;34m\u001b[0m\u001b[0m\n\u001b[0;32m----> 3\u001b[0;31m \u001b[0mmodel_evaluation\u001b[0m\u001b[0;34m.\u001b[0m\u001b[0mto_excel\u001b[0m\u001b[0;34m(\u001b[0m\u001b[0mwriter3\u001b[0m\u001b[0;34m,\u001b[0m\u001b[0msheet_name\u001b[0m\u001b[0;34m=\u001b[0m\u001b[0;34m'model_evaluation'\u001b[0m\u001b[0;34m,\u001b[0m\u001b[0mindex\u001b[0m\u001b[0;34m=\u001b[0m\u001b[0;32mFalse\u001b[0m\u001b[0;34m)\u001b[0m\u001b[0;34m\u001b[0m\u001b[0;34m\u001b[0m\u001b[0m\n\u001b[0m\u001b[1;32m      4\u001b[0m \u001b[0mwriter3\u001b[0m\u001b[0;34m.\u001b[0m\u001b[0msave\u001b[0m\u001b[0;34m(\u001b[0m\u001b[0;34m)\u001b[0m\u001b[0;34m\u001b[0m\u001b[0;34m\u001b[0m\u001b[0m\n",
      "\u001b[0;31mAttributeError\u001b[0m: 'list' object has no attribute 'to_excel'"
     ]
    }
   ],
   "source": [
    "writer3= pd.ExcelWriter(WF+'Output\\\\'+latest.strftime('%Y%m%d')+'\\\\summary_'+latest.strftime('%Y%m%d')+'.xlsx')\n",
    "persistence.to_excel(writer3,sheet_name='persistence',index=False)\n",
    "model_evaluation.to_excel(writer3,sheet_name='model_evaluation',index=False)\n",
    "writer3.save()"
   ]
  },
  {
   "cell_type": "code",
   "execution_count": null,
   "metadata": {},
   "outputs": [],
   "source": []
  }
 ],
 "metadata": {
  "kernelspec": {
   "display_name": "Python 3",
   "language": "python",
   "name": "python3"
  },
  "language_info": {
   "codemirror_mode": {
    "name": "ipython",
    "version": 3
   },
   "file_extension": ".py",
   "mimetype": "text/x-python",
   "name": "python",
   "nbconvert_exporter": "python",
   "pygments_lexer": "ipython3",
   "version": "3.8.3-final"
  }
 },
 "nbformat": 4,
 "nbformat_minor": 4
}